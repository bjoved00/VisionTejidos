{
 "cells": [
  {
   "cell_type": "code",
   "execution_count": 29,
   "metadata": {},
   "outputs": [],
   "source": [
    "import numpy as np\n",
    "import cv2 as cv\n",
    "import os\n",
    "import shutil\n",
    "from matplotlib import pyplot as plt\n",
    "from os import listdir\n",
    "from os.path import isfile, join"
   ]
  },
  {
   "cell_type": "code",
   "execution_count": 30,
   "metadata": {},
   "outputs": [
    {
     "ename": "PermissionError",
     "evalue": "[Errno 13] Permission denied: '/Dataset'",
     "output_type": "error",
     "traceback": [
      "\u001b[0;31m---------------------------------------------------------------------------\u001b[0m",
      "\u001b[0;31mPermissionError\u001b[0m                           Traceback (most recent call last)",
      "\u001b[1;32m/home/bea/ProyectoTejidos/VisionTejidos/cropping.ipynb Cell 2\u001b[0m in \u001b[0;36m6\n\u001b[1;32m      <a href='vscode-notebook-cell:/home/bea/ProyectoTejidos/VisionTejidos/cropping.ipynb#W1sZmlsZQ%3D%3D?line=3'>4</a>\u001b[0m \u001b[39mif\u001b[39;00m os\u001b[39m.\u001b[39mpath\u001b[39m.\u001b[39mexists(carpeta):\n\u001b[1;32m      <a href='vscode-notebook-cell:/home/bea/ProyectoTejidos/VisionTejidos/cropping.ipynb#W1sZmlsZQ%3D%3D?line=4'>5</a>\u001b[0m     shutil\u001b[39m.\u001b[39mrmtree(carpeta)\n\u001b[0;32m----> <a href='vscode-notebook-cell:/home/bea/ProyectoTejidos/VisionTejidos/cropping.ipynb#W1sZmlsZQ%3D%3D?line=5'>6</a>\u001b[0m os\u001b[39m.\u001b[39mmakedirs(carpeta)\n\u001b[1;32m      <a href='vscode-notebook-cell:/home/bea/ProyectoTejidos/VisionTejidos/cropping.ipynb#W1sZmlsZQ%3D%3D?line=7'>8</a>\u001b[0m images \u001b[39m=\u001b[39m []\n\u001b[1;32m      <a href='vscode-notebook-cell:/home/bea/ProyectoTejidos/VisionTejidos/cropping.ipynb#W1sZmlsZQ%3D%3D?line=8'>9</a>\u001b[0m \u001b[39mfor\u001b[39;00m filename \u001b[39min\u001b[39;00m os\u001b[39m.\u001b[39mlistdir(folder):\n",
      "File \u001b[0;32m/usr/lib/python3.8/os.py:213\u001b[0m, in \u001b[0;36mmakedirs\u001b[0;34m(name, mode, exist_ok)\u001b[0m\n\u001b[1;32m    211\u001b[0m \u001b[39mif\u001b[39;00m head \u001b[39mand\u001b[39;00m tail \u001b[39mand\u001b[39;00m \u001b[39mnot\u001b[39;00m path\u001b[39m.\u001b[39mexists(head):\n\u001b[1;32m    212\u001b[0m     \u001b[39mtry\u001b[39;00m:\n\u001b[0;32m--> 213\u001b[0m         makedirs(head, exist_ok\u001b[39m=\u001b[39;49mexist_ok)\n\u001b[1;32m    214\u001b[0m     \u001b[39mexcept\u001b[39;00m \u001b[39mFileExistsError\u001b[39;00m:\n\u001b[1;32m    215\u001b[0m         \u001b[39m# Defeats race condition when another thread created the path\u001b[39;00m\n\u001b[1;32m    216\u001b[0m         \u001b[39mpass\u001b[39;00m\n",
      "File \u001b[0;32m/usr/lib/python3.8/os.py:223\u001b[0m, in \u001b[0;36mmakedirs\u001b[0;34m(name, mode, exist_ok)\u001b[0m\n\u001b[1;32m    221\u001b[0m         \u001b[39mreturn\u001b[39;00m\n\u001b[1;32m    222\u001b[0m \u001b[39mtry\u001b[39;00m:\n\u001b[0;32m--> 223\u001b[0m     mkdir(name, mode)\n\u001b[1;32m    224\u001b[0m \u001b[39mexcept\u001b[39;00m \u001b[39mOSError\u001b[39;00m:\n\u001b[1;32m    225\u001b[0m     \u001b[39m# Cannot rely on checking for EEXIST, since the operating system\u001b[39;00m\n\u001b[1;32m    226\u001b[0m     \u001b[39m# could give priority to other errors like EACCES or EROFS\u001b[39;00m\n\u001b[1;32m    227\u001b[0m     \u001b[39mif\u001b[39;00m \u001b[39mnot\u001b[39;00m exist_ok \u001b[39mor\u001b[39;00m \u001b[39mnot\u001b[39;00m path\u001b[39m.\u001b[39misdir(name):\n",
      "\u001b[0;31mPermissionError\u001b[0m: [Errno 13] Permission denied: '/Dataset'"
     ]
    }
   ],
   "source": [
    "#folder = \"../../Documents/ZED2\"\n",
    "folder = \"Dataset/Negro\"\n",
    "carpeta = \"Dataset/Negro_cropped\"\n",
    "if os.path.exists(carpeta):\n",
    "    shutil.rmtree(carpeta)\n",
    "os.makedirs(carpeta)\n",
    "\n",
    "images = []\n",
    "for filename in os.listdir(folder):\n",
    "    img = cv.imread(os.path.join(folder,filename), cv.IMREAD_COLOR)\n",
    "    if img is not None:\n",
    "        height, width = img.shape[:2]\n",
    "        cropped = img[200:height-200, 200:width-200]\n",
    "        images.append(cropped)\n",
    "    \n",
    "plt.imshow(images[0], cmap=\"gray\")\n"
   ]
  },
  {
   "cell_type": "code",
   "execution_count": null,
   "metadata": {},
   "outputs": [],
   "source": [
    "def img2Binary(img):\n",
    "    img_gray = cv.cvtColor(img, cv.COLOR_BGR2GRAY)\n",
    "    blur = cv.GaussianBlur(img_gray,(5,5),0)\n",
    "    ret,th = cv.threshold(blur,0,255,cv.THRESH_BINARY+cv.THRESH_OTSU)\n",
    "    \n",
    "    return th\n",
    "    "
   ]
  },
  {
   "cell_type": "code",
   "execution_count": null,
   "metadata": {},
   "outputs": [],
   "source": [
    "def morphOp(th):\n",
    "    kernel = np.ones((5,5),np.uint8)\n",
    "\n",
    "    # Dilation\n",
    "    dilation = cv.dilate(th, kernel, iterations = 20)\n",
    "\n",
    "    # Erosion\n",
    "    erosion = cv.erode(dilation, kernel, iterations = 20)\n",
    "\n",
    "    # Closing -> Erasing the holes inside the object\n",
    "    closing = cv.morphologyEx(th, cv.MORPH_CLOSE, kernel, iterations = 18)\n",
    "\n",
    "    # Opening -> Erasing the tails\n",
    "    kernel = np.ones((13,13),np.uint8)\n",
    "\n",
    "    opening = cv.morphologyEx(closing, cv.MORPH_OPEN, kernel, iterations = 18)\n",
    "    #plt.imshow(opening, cmap=\"gray\")\n",
    "    return opening\n"
   ]
  },
  {
   "cell_type": "code",
   "execution_count": null,
   "metadata": {},
   "outputs": [],
   "source": [
    "def euclideanDistance(p1, p2):\n",
    "    # p1, p2 as tuples\n",
    "    dis = ((p2[0] - p1[0]) ** 2 + (p2[1] - p1[1]) ** 2) ** 0.5\n",
    "    return dis"
   ]
  },
  {
   "cell_type": "code",
   "execution_count": null,
   "metadata": {},
   "outputs": [],
   "source": [
    "## Finding the contour closest to the center of the image\n",
    "def getCenteredContour(contours, image_center):\n",
    "    minDistance = float(\"inf\") ## Highest number \n",
    "\n",
    "    for cnt in contours:\n",
    "        # Find the center of each contour\n",
    "        M = cv.moments(cnt)\n",
    "        centerX = int(M[\"m10\"] / M[\"m00\"])\n",
    "        centerY = int(M[\"m01\"] / M[\"m00\"])\n",
    "        contour_center = (centerX, centerY)\n",
    "\n",
    "        # Then calculate the distance between the center of the contour and the center of the image\n",
    "        distance = euclideanDistance(image_center, contour_center)\n",
    "        if(distance < minDistance):\n",
    "            minDistance = distance\n",
    "            minDistanceContour = cnt\n",
    "    return minDistanceContour"
   ]
  },
  {
   "cell_type": "code",
   "execution_count": null,
   "metadata": {},
   "outputs": [],
   "source": [
    "## Finding the biggest contour\n",
    "def getBiggestContour(contours, img):\n",
    "    biggestArea = 0\n",
    "    for cnt in contours:\n",
    "        area = cv.contourArea(cnt)\n",
    "        if biggestArea < area:\n",
    "            biggestArea = area\n",
    "            biggestContour = cnt\n",
    "    return biggestContour, biggestArea"
   ]
  },
  {
   "cell_type": "code",
   "execution_count": null,
   "metadata": {},
   "outputs": [],
   "source": [
    "\n",
    "def ROI(img_rgb, opening, i):\n",
    "    copy = img_rgb.copy()\n",
    "    img_gray = cv.cvtColor(img, cv.COLOR_BGR2GRAY)\n",
    "    contours, hierarchy = cv.findContours(opening, cv.RETR_TREE, cv.CHAIN_APPROX_NONE)\n",
    "\n",
    "    ## Finding the center of the image\n",
    "    moment = cv.moments(img_gray)\n",
    "    x = int(moment [\"m10\"] / moment[\"m00\"])\n",
    "    y = int(moment [\"m01\"] / moment[\"m00\"])\n",
    "    image_center = (x,y)\n",
    "    cv.circle(copy, image_center, 3, (255, 100, 0), 2)\n",
    "\n",
    "\n",
    "    mostCenteredContour = getCenteredContour(contours, image_center)\n",
    "    cv.drawContours(copy, mostCenteredContour, -1, (255,0,0), 3)\n",
    "\n",
    "    x,y,w,h = cv.boundingRect(mostCenteredContour)\n",
    "    cv.rectangle(copy,(x,y),(x+w,y+h),(255,0,0),8)\n",
    "\n",
    "    dst = cv.Canny(img_gray, 0, 150)\n",
    "    blured = cv.blur(dst, (5,5), 0)\n",
    "\n",
    "    [X, Y, W, H] = cv.boundingRect(mostCenteredContour)\n",
    "    cropped = img_rgb[Y:Y+H, X:X+W]\n",
    "    \n",
    "    cv.imwrite(os.path.join(carpeta, str(i)+\".jpg\"), cropped)"
   ]
  },
  {
   "attachments": {},
   "cell_type": "markdown",
   "metadata": {},
   "source": [
    "A FUNCIONAR"
   ]
  },
  {
   "cell_type": "code",
   "execution_count": null,
   "metadata": {},
   "outputs": [],
   "source": [
    "i=0\n",
    "for img in images:\n",
    "    th = img2Binary(img)\n",
    "    opening = morphOp(th)\n",
    "    ROI(img, opening, i)\n",
    "    i += 1"
   ]
  }
 ],
 "metadata": {
  "kernelspec": {
   "display_name": "Python 3 (ipykernel)",
   "language": "python",
   "name": "python3"
  },
  "language_info": {
   "codemirror_mode": {
    "name": "ipython",
    "version": 3
   },
   "file_extension": ".py",
   "mimetype": "text/x-python",
   "name": "python",
   "nbconvert_exporter": "python",
   "pygments_lexer": "ipython3",
   "version": "3.8.10"
  },
  "orig_nbformat": 4
 },
 "nbformat": 4,
 "nbformat_minor": 2
}
